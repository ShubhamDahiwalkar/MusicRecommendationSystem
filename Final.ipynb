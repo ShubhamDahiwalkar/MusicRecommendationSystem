{
 "cells": [
  {
   "cell_type": "code",
   "execution_count": 1,
   "id": "2465bf2d",
   "metadata": {},
   "outputs": [],
   "source": [
    "#imoprting libraries\n",
    "import numpy as np\n",
    "import pandas as pd\n",
    "import matplotlib.pyplot as plt  \n",
    "import missingno as msno\n",
    "from sklearn.model_selection import train_test_split\n",
    "import matplotlib.pyplot as plt\n",
    "import time\n",
    "import gc\n",
    "from sklearn.dummy import DummyClassifier\n",
    "from sklearn.metrics import auc\n",
    "from sklearn.metrics import roc_auc_score\n",
    "from sklearn.metrics import roc_curve\n",
    "from sklearn.preprocessing import StandardScaler\n",
    "from sklearn.preprocessing import Normalizer\n",
    "from sklearn.preprocessing import LabelEncoder\n",
    "from sklearn.preprocessing import MinMaxScaler\n",
    "from sklearn.linear_model import SGDClassifier\n",
    "from sklearn.model_selection import GridSearchCV\n",
    "from sklearn.tree import DecisionTreeClassifier\n",
    "from sklearn.ensemble import AdaBoostClassifier\n",
    "from sklearn.ensemble import GradientBoostingClassifier\n",
    "from sklearn.calibration import CalibratedClassifierCV\n",
    "from sklearn.ensemble import RandomForestClassifier\n",
    "from sklearn.model_selection import RandomizedSearchCV\n",
    "from sklearn.decomposition import PCA\n",
    "import lightgbm as lgb\n",
    "import xgboost\n",
    "from sklearn import tree\n",
    "import seaborn as sns\n",
    "import matplotlib.pyplot as plt\n",
    "from matplotlib import pyplot\n",
    "import time\n",
    "import warnings\n",
    "warnings.filterwarnings(\"ignore\")\n",
    "%matplotlib inline\n",
    "import warnings\n",
    "import tensorflow as tf\n",
    "import numpy as np\n",
    "import pandas as pd\n",
    "import os\n",
    "from numpy import asarray\n",
    "from numpy import zeros\n",
    "from tqdm import tqdm\n",
    "import keras\n",
    "import datetime\n",
    "import tensorflow\n",
    "from tensorflow.keras.models import Sequential\n",
    "from tensorflow.keras.layers import Embedding, Input, Conv1D, Dropout, MaxPool1D, Dense, Flatten, Concatenate, LSTM,SpatialDropout1D, LSTM, BatchNormalization,Dropout,MaxPooling2D,Reshape\n",
    "from tensorflow.compat.v1.keras.layers import CuDNNLSTM\n",
    "from tensorflow.keras import Model\n",
    "from sklearn.metrics import roc_auc_score\n",
    "from tensorflow.keras.initializers import he_normal,glorot_normal\n",
    "from tensorflow.keras.callbacks import EarlyStopping\n",
    "from tensorflow.keras.callbacks import ModelCheckpoint\n",
    "from tensorflow.keras.callbacks import LearningRateScheduler\n",
    "from tensorflow.python.keras.callbacks import TensorBoard\n",
    "from tensorflow.keras.preprocessing.text import Tokenizer\n",
    "from tensorflow.keras.preprocessing.sequence import pad_sequences\n",
    "from tensorflow.keras.optimizers import RMSprop, Adam, SGD\n",
    "from tensorflow.keras.layers import concatenate, dot\n",
    "import joblib\n",
    "import pickle\n",
    "from joblib import dump,load"
   ]
  },
  {
   "cell_type": "code",
   "execution_count": 2,
   "id": "d18dab7c",
   "metadata": {},
   "outputs": [],
   "source": [
    "tr_data = pd.read_csv('tr_data.csv')\n",
    "val_data = pd.read_csv('val_data.csv')"
   ]
  },
  {
   "cell_type": "code",
   "execution_count": 3,
   "id": "32d49247",
   "metadata": {},
   "outputs": [],
   "source": [
    "def function_1(data_point, best_model):\n",
    "    label = best_model.predict(data_point)\n",
    "    print('The label is : ', label)"
   ]
  },
  {
   "cell_type": "code",
   "execution_count": 4,
   "id": "ea166b4b",
   "metadata": {},
   "outputs": [],
   "source": [
    "def function_2(data_point, label, best_model):\n",
    "    predicted_label = best_model.predict(data_point)\n",
    "    auc = roc_auc_score(label, predicted_label)\n",
    "    print('AUC is : ', auc)"
   ]
  },
  {
   "cell_type": "code",
   "execution_count": 5,
   "id": "3e498b77",
   "metadata": {},
   "outputs": [],
   "source": [
    "# sample validation data point for function-1  and function-2\n",
    "data_point = np.array(val_data.iloc[1].drop(['target'])).reshape(1,-1)\n",
    "label = np.array(val_data.iloc[1]['target'])\n",
    "best_model = joblib.load('adb.pkl')"
   ]
  },
  {
   "cell_type": "code",
   "execution_count": 6,
   "id": "fdee1360",
   "metadata": {},
   "outputs": [
    {
     "name": "stdout",
     "output_type": "stream",
     "text": [
      "The label is :  [1]\n"
     ]
    }
   ],
   "source": [
    "function_1(data_point, best_model)"
   ]
  },
  {
   "cell_type": "code",
   "execution_count": 9,
   "id": "dbf5d30d",
   "metadata": {},
   "outputs": [],
   "source": [
    "function_2(data_point, label, best_model)"
   ]
  },
  {
   "cell_type": "code",
   "execution_count": null,
   "id": "b3296717",
   "metadata": {},
   "outputs": [],
   "source": []
  },
  {
   "cell_type": "code",
   "execution_count": null,
   "id": "bfbb98e2",
   "metadata": {},
   "outputs": [],
   "source": []
  },
  {
   "cell_type": "code",
   "execution_count": null,
   "id": "07a50270",
   "metadata": {},
   "outputs": [],
   "source": []
  },
  {
   "cell_type": "code",
   "execution_count": null,
   "id": "dbabc130",
   "metadata": {},
   "outputs": [],
   "source": []
  },
  {
   "cell_type": "code",
   "execution_count": null,
   "id": "dbc8e5c0",
   "metadata": {},
   "outputs": [],
   "source": []
  },
  {
   "cell_type": "code",
   "execution_count": null,
   "id": "696f7653",
   "metadata": {},
   "outputs": [],
   "source": []
  },
  {
   "cell_type": "code",
   "execution_count": null,
   "id": "11692dea",
   "metadata": {},
   "outputs": [],
   "source": []
  }
 ],
 "metadata": {
  "kernelspec": {
   "display_name": "Python 3 (ipykernel)",
   "language": "python",
   "name": "python3"
  },
  "language_info": {
   "codemirror_mode": {
    "name": "ipython",
    "version": 3
   },
   "file_extension": ".py",
   "mimetype": "text/x-python",
   "name": "python",
   "nbconvert_exporter": "python",
   "pygments_lexer": "ipython3",
   "version": "3.8.5"
  }
 },
 "nbformat": 4,
 "nbformat_minor": 5
}
